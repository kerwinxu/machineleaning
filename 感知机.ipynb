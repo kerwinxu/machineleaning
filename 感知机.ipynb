{
 "cells": [
  {
   "cell_type": "markdown",
   "metadata": {},
   "source": [
    "# 概述"
   ]
  },
  {
   "cell_type": "markdown",
   "metadata": {},
   "source": [
    "## 思想\n",
    "感知机试图找到一个超平面，能够把所有的二元类别分开。\n",
    "\n",
    "## 数学描述感知机\n",
    "如果我们有m个样品，每个样品对应n个特征，和一个二元类别输出，如下  \n",
    "$(x_1^{(1)},x_2^{(1)},\\cdots,x_n^{(1)},y_1),(x_1^{(2)},x_2^{(2)},\\cdots,x_n^{(2)},y_2),\\cdots,(x_1^{(m)},x_2^{(m)},\\cdots,x_n^{(m)},y_m)$  \n",
    "我们的目的是找到这么一个超平面，即  \n",
    "$\\theta_0+\\theta_1x_1+\\cdots+\\theta_nx_n=0$  \n",
    "做到如下\n",
    "- 一个类别的样品都满足 >0 \n",
    "- 一个列别的样品都满足 <0\n",
    "\n",
    "如果数据线性可分，这样的超平面不是唯一的。  \n",
    "为了简化写法，我们增加一个特征 $x_0=1$,这样超平面就是 $\\sum\\limits_{i=0}^{n}\\theta_i x_i = 0$ 用向量表示就是 $\\theta\\cdot x = 0$ ，感知机的模型就如下：  \n",
    "$y = sign(\\theta\\cdot x)=\\left\\{\\begin{align}&-1&x<0\\\\&1&x\\ge 0\\end{align}\\right.$  \n",
    "## 感知机的损失函数\n",
    "- 取值\n",
    "   - 将取值 $\\theta\\cdot x > 0$ 的样本类别的输出值为1\n",
    "   - 将取值 $\\theta\\cdot x < 0$ 的样本类别的输出值为-1\n",
    "- 损失函数\n",
    "   - 正确分类的样品，$y \\theta\\cdot x > 0$\n",
    "   - 错误分类的样品，$y \\theta\\cdot x < 0$\n",
    "- 损失函数的目标\n",
    "   - 误分类的所有样品，到超平面的距离之和最小。\n",
    "- 构造损失函数\n",
    "   - 对于每一个误分类的样本i，到超平面的距离为  $-\\frac{y^{(i)}\\theta\\cdot x^{(i)}}{||\\theta||_2}$\n",
    "   - 假设误分类的集合为M，则所有误分类的样品到超平面的距离之和为 $ -\\sum\\limits_{x_i\\in M}\\frac{y^{(i)}\\theta\\cdot x^{(i)}}{||\\theta||_2}$\n",
    "- 精简\n",
    "   - 分子和分母都含有 $\\theta$,存在倍数关系，然后我们可以假定分子或者分母为1，然后求分子自己或者分母的导数的最小化作为损失函数。\n",
    "      - 在感知机模型种，我们采取的是保留分子，精简化的感知机模型的损失函数如下\n",
    "         - $J(\\theta)=-\\sum\\limits_{x_i\\in M}y^{(i)}\\theta\\cdot x^{(i)}$\n",
    "- 计算损失函数\n",
    "   - 用梯度下降法，但只有误分类的M集合样品才能参与损失函数的优化。\n",
    "      - 损失函数基于$\\theta $的偏导数为\n",
    "         - $\\frac{\\partial}{\\partial\\theta}J(\\theta)=-\\sum\\limits_{x_i\\in M} y^{(i)}x^{(i)}$\n",
    "      - 梯度下降迭代公式为\n",
    "         - $\\theta=\\theta+\\alpha\\sum\\limits_{x_i\\in M} y^{(i)}x^{(i)}$\n",
    "      - 我们采用的是随机梯度下降，假设采用第i个样本来更新梯度\n",
    "         - $\\theta=\\theta+\\alpha y^{(i)}x^{(i)}$\n",
    "\n",
    "# 感知机算法的对偶形式\n",
    " \n",
    "$\\theta =\\alpha \\sum\\limits_{j=1}^{m}m_{j}y^{(j)}x^{(j)}$  \n",
    "$m_j$是样品$(x^{(j)},y^{(j)})$在梯度下降到当前的这一步因误分类而更次年的次数。  \n",
    "由于$\\alpha$是常量，我们令 $\\beta_j=\\alpha m_j$，这样表达式如下：  \n",
    "$\\theta = \\sum\\limits_{j=1}^{m}\\beta_j y^{(i)}x^{(i)}$  \n",
    "判断误分类的，就是如下的形式了  \n",
    "$y^{(i)}\\sum\\limits_{j=1}^{m}\\beta_j y^{(j)}x^{(j)}\\bullet x^{(i)} < 0$\n",
    "\n",
    "# 计算步骤\n",
    "1. 初始化数据\n",
    "   - $x_0=1$\n",
    "   - 设置步长 $\\alpha=1$\n",
    "   - $\\beta=0$\n",
    "2. 计算内积形成的Gram形成的矩阵，为了以后方便运算而已，毕竟少很多运算。\n",
    "3. 选择一个误分类点 $(x^{(i)},y^{(i)})$\n",
    "   - 满足条件 $y^{(i)}\\sum\\limits_{j=1}^{m}\\beta_j y^{(j)}x^{(j)}\\bullet x^{(i)} <= 0$\n",
    "4. 用梯度下降法对 $\\beta$的第i个向量进行一次更新。\n",
    "5. 检查是否还有其他的误分类点，\n",
    "   - 如果有，继续步骤4\n",
    "   - 如果没有，结果为  $\\theta=\\sum\\limits_{j=1}^{m}\\beta_{j}y^{(j)}x^{(j)}$"
   ]
  },
  {
   "cell_type": "markdown",
   "metadata": {},
   "source": [
    "# python代码"
   ]
  },
  {
   "cell_type": "code",
   "execution_count": 27,
   "metadata": {},
   "outputs": [],
   "source": [
    "import numpy as np\n",
    "import matplotlib.pyplot as plt\n",
    "%matplotlib inline"
   ]
  },
  {
   "cell_type": "code",
   "execution_count": 28,
   "metadata": {},
   "outputs": [
    {
     "data": {
      "text/plain": [
       "[<matplotlib.lines.Line2D at 0x17eeb1d6288>]"
      ]
     },
     "execution_count": 28,
     "metadata": {},
     "output_type": "execute_result"
    },
    {
     "data": {
      "text/plain": [
       "[<matplotlib.lines.Line2D at 0x17ee9dc0948>]"
      ]
     },
     "execution_count": 28,
     "metadata": {},
     "output_type": "execute_result"
    },
    {
     "data": {
      "text/plain": [
       "[<matplotlib.lines.Line2D at 0x17eeb1e0f48>]"
      ]
     },
     "execution_count": 28,
     "metadata": {},
     "output_type": "execute_result"
    },
    {
     "data": {
      "text/plain": [
       "[<matplotlib.lines.Line2D at 0x17eeb1e0d08>]"
      ]
     },
     "execution_count": 28,
     "metadata": {},
     "output_type": "execute_result"
    },
    {
     "data": {
      "text/plain": [
       "[<matplotlib.lines.Line2D at 0x17eeb1e6b48>]"
      ]
     },
     "execution_count": 28,
     "metadata": {},
     "output_type": "execute_result"
    },
    {
     "data": {
      "text/plain": [
       "[<matplotlib.lines.Line2D at 0x17eeb1e6fc8>]"
      ]
     },
     "execution_count": 28,
     "metadata": {},
     "output_type": "execute_result"
    },
    {
     "data": {
      "text/plain": [
       "[<matplotlib.lines.Line2D at 0x17eeb1e6f48>]"
      ]
     },
     "execution_count": 28,
     "metadata": {},
     "output_type": "execute_result"
    },
    {
     "data": {
      "text/plain": [
       "[<matplotlib.lines.Line2D at 0x17eeb1ead88>]"
      ]
     },
     "execution_count": 28,
     "metadata": {},
     "output_type": "execute_result"
    },
    {
     "data": {
      "text/plain": [
       "[<matplotlib.lines.Line2D at 0x17eeb1e6988>]"
      ]
     },
     "execution_count": 28,
     "metadata": {},
     "output_type": "execute_result"
    },
    {
     "data": {
      "text/plain": [
       "[<matplotlib.lines.Line2D at 0x17eeb1f3708>]"
      ]
     },
     "execution_count": 28,
     "metadata": {},
     "output_type": "execute_result"
    },
    {
     "data": {
      "text/plain": [
       "[<matplotlib.lines.Line2D at 0x17eeb0e3d48>]"
      ]
     },
     "execution_count": 28,
     "metadata": {},
     "output_type": "execute_result"
    },
    {
     "data": {
      "text/plain": [
       "[<matplotlib.lines.Line2D at 0x17eeb1f3cc8>]"
      ]
     },
     "execution_count": 28,
     "metadata": {},
     "output_type": "execute_result"
    },
    {
     "data": {
      "text/plain": [
       "[<matplotlib.lines.Line2D at 0x17eeb1f7808>]"
      ]
     },
     "execution_count": 28,
     "metadata": {},
     "output_type": "execute_result"
    },
    {
     "data": {
      "text/plain": [
       "[<matplotlib.lines.Line2D at 0x17eeb1f78c8>]"
      ]
     },
     "execution_count": 28,
     "metadata": {},
     "output_type": "execute_result"
    },
    {
     "data": {
      "text/plain": [
       "[<matplotlib.lines.Line2D at 0x17eeb1f7248>]"
      ]
     },
     "execution_count": 28,
     "metadata": {},
     "output_type": "execute_result"
    },
    {
     "data": {
      "text/plain": [
       "[<matplotlib.lines.Line2D at 0x17eeb1f3108>]"
      ]
     },
     "execution_count": 28,
     "metadata": {},
     "output_type": "execute_result"
    },
    {
     "data": {
      "text/plain": [
       "[<matplotlib.lines.Line2D at 0x17eeb20a348>]"
      ]
     },
     "execution_count": 28,
     "metadata": {},
     "output_type": "execute_result"
    },
    {
     "data": {
      "text/plain": [
       "[<matplotlib.lines.Line2D at 0x17eeb1f7ec8>]"
      ]
     },
     "execution_count": 28,
     "metadata": {},
     "output_type": "execute_result"
    },
    {
     "data": {
      "image/png": "[encoded data removed]",
      "text/plain": [
       "<Figure size 432x288 with 1 Axes>"
      ]
     },
     "metadata": {
      "needs_background": "light"
     },
     "output_type": "display_data"
    }
   ],
   "source": [
    "# 我们先设置几个数据吧\n",
    "x=np.array([[1,2],[2,2],[3,1],[10,8],[6,9],[1,1],[3,6],[4,4],[6,8],[7,6],[3,2],[7,8],[6,2],[9,6],[11,3],[10,6],[12,5],[2,6]])\n",
    "y=np.array([-1,-1,-1,1,1,-1,-1,-1,1,1,-1,1,-1,1,1,1,1,-1])\n",
    "y=y.reshape(len(y),1)\n",
    "y_g_0=np.where(y>0)\n",
    "for i in x[(np.where(y>0))[0]]:\n",
    "    plt.plot(i[0],i[1],'x')\n",
    "for i in x[(np.where(y<0))[0]]:\n",
    "    plt.plot(i[0],i[1],'o') "
   ]
  },
  {
   "cell_type": "code",
   "execution_count": 29,
   "metadata": {},
   "outputs": [],
   "source": [
    "# 初始化数据，添加x0\n",
    "x=np.insert(x,0,values=1,axis=1)\n",
    "alpha=1"
   ]
  },
  {
   "cell_type": "code",
   "execution_count": 30,
   "metadata": {},
   "outputs": [
    {
     "name": "stdout",
     "output_type": "stream",
     "text": [
      "[[ 0. 53. 33.]]\n",
      "[[-9. 28.  7.]]\n",
      "[[-18.   3. -19.]]\n",
      "[[-9. 81. 40.]]\n",
      "[[-18.  56.  14.]]\n",
      "[[-27.  31. -12.]]\n",
      "[[-32.  13. -23.]]\n",
      "[[-26.  62.  26.]]\n",
      "[[-35.  37.   0.]]\n",
      "[[-44.  12. -26.]]\n",
      "[[-36.  79.  30.]]\n",
      "[[-45.  54.   4.]]\n",
      "[[-54.  29. -22.]]\n",
      "[[-53.  39.   0.]]\n",
      "[[-60.  16. -23.]]\n",
      "[[-53.  71.  28.]]\n",
      "[[-62.  46.   2.]]\n",
      "[[-69.  23. -21.]]\n",
      "[[-65.  53.  16.]]\n",
      "[[-74.  28. -10.]]\n",
      "[[-76.  19. -13.]]\n",
      "[[-73.  39.  16.]]\n",
      "[[-80.  16.  -7.]]\n",
      "[[-77.  36.  22.]]\n",
      "[[-85.  12.  -3.]]\n",
      "[[-81.  38.  28.]]\n",
      "[[-89.  14.   3.]]\n",
      "[[-90.   8.   1.]]\n",
      "[[-83.  63.  52.]]\n",
      "[[-92.  38.  26.]]\n",
      "[[-99.  15.   3.]]\n",
      "Wall time: 40 ms\n"
     ]
    }
   ],
   "source": [
    "# 这里先用原始算法\n",
    "def f1():\n",
    "    theta=np.zeros((len(x[0]),1))\n",
    "    y_tmp=x.dot(theta)*y\n",
    "    error_index=np.where(y_tmp<=0)\n",
    "    while(len(error_index[0])>0):\n",
    "        theta=theta+alpha*np.sum(y[error_index[0]]*x[error_index[0]],axis=0).reshape(3,1)\n",
    "        print(theta.T)\n",
    "        y_tmp=x.dot(theta)*y\n",
    "        error_index=np.where(y_tmp<=0)\n",
    "%time  f1() "
   ]
  },
  {
   "cell_type": "code",
   "execution_count": 32,
   "metadata": {},
   "outputs": [
    {
     "name": "stderr",
     "output_type": "stream",
     "text": [
      "d:\\Anaconda3\\lib\\site-packages\\ipykernel_launcher.py:2: RuntimeWarning: invalid value encountered in true_divide\n",
      "  \n"
     ]
    },
    {
     "data": {
      "text/plain": [
       "[<matplotlib.lines.Line2D at 0x17eeb2cc6c8>]"
      ]
     },
     "execution_count": 32,
     "metadata": {},
     "output_type": "execute_result"
    },
    {
     "data": {
      "text/plain": [
       "[<matplotlib.lines.Line2D at 0x17eeb08f608>]"
      ]
     },
     "execution_count": 32,
     "metadata": {},
     "output_type": "execute_result"
    },
    {
     "data": {
      "text/plain": [
       "[<matplotlib.lines.Line2D at 0x17eeb2d3d08>]"
      ]
     },
     "execution_count": 32,
     "metadata": {},
     "output_type": "execute_result"
    },
    {
     "data": {
      "text/plain": [
       "[<matplotlib.lines.Line2D at 0x17eeb1ea508>]"
      ]
     },
     "execution_count": 32,
     "metadata": {},
     "output_type": "execute_result"
    },
    {
     "data": {
      "text/plain": [
       "[<matplotlib.lines.Line2D at 0x17eeb2dcb88>]"
      ]
     },
     "execution_count": 32,
     "metadata": {},
     "output_type": "execute_result"
    },
    {
     "data": {
      "text/plain": [
       "[<matplotlib.lines.Line2D at 0x17eeb2e76c8>]"
      ]
     },
     "execution_count": 32,
     "metadata": {},
     "output_type": "execute_result"
    },
    {
     "data": {
      "text/plain": [
       "[<matplotlib.lines.Line2D at 0x17eeb2e7e88>]"
      ]
     },
     "execution_count": 32,
     "metadata": {},
     "output_type": "execute_result"
    },
    {
     "data": {
      "text/plain": [
       "[<matplotlib.lines.Line2D at 0x17eeb2e7c48>]"
      ]
     },
     "execution_count": 32,
     "metadata": {},
     "output_type": "execute_result"
    },
    {
     "data": {
      "text/plain": [
       "[<matplotlib.lines.Line2D at 0x17eeb2dca88>]"
      ]
     },
     "execution_count": 32,
     "metadata": {},
     "output_type": "execute_result"
    },
    {
     "data": {
      "text/plain": [
       "[<matplotlib.lines.Line2D at 0x17eeb2e8e08>]"
      ]
     },
     "execution_count": 32,
     "metadata": {},
     "output_type": "execute_result"
    },
    {
     "data": {
      "text/plain": [
       "[<matplotlib.lines.Line2D at 0x17eeb2af8c8>]"
      ]
     },
     "execution_count": 32,
     "metadata": {},
     "output_type": "execute_result"
    },
    {
     "data": {
      "text/plain": [
       "[<matplotlib.lines.Line2D at 0x17eeb2f2bc8>]"
      ]
     },
     "execution_count": 32,
     "metadata": {},
     "output_type": "execute_result"
    },
    {
     "data": {
      "text/plain": [
       "[<matplotlib.lines.Line2D at 0x17eeb2f2a08>]"
      ]
     },
     "execution_count": 32,
     "metadata": {},
     "output_type": "execute_result"
    },
    {
     "data": {
      "text/plain": [
       "[<matplotlib.lines.Line2D at 0x17eeb2f2f48>]"
      ]
     },
     "execution_count": 32,
     "metadata": {},
     "output_type": "execute_result"
    },
    {
     "data": {
      "text/plain": [
       "[<matplotlib.lines.Line2D at 0x17eeb232d48>]"
      ]
     },
     "execution_count": 32,
     "metadata": {},
     "output_type": "execute_result"
    },
    {
     "data": {
      "text/plain": [
       "[<matplotlib.lines.Line2D at 0x17eeb2e8c88>]"
      ]
     },
     "execution_count": 32,
     "metadata": {},
     "output_type": "execute_result"
    },
    {
     "data": {
      "text/plain": [
       "[<matplotlib.lines.Line2D at 0x17eeb2fcc88>]"
      ]
     },
     "execution_count": 32,
     "metadata": {},
     "output_type": "execute_result"
    },
    {
     "data": {
      "text/plain": [
       "[<matplotlib.lines.Line2D at 0x17eeb2fc448>]"
      ]
     },
     "execution_count": 32,
     "metadata": {},
     "output_type": "execute_result"
    },
    {
     "data": {
      "text/plain": [
       "[<matplotlib.lines.Line2D at 0x17eeb2d3b08>]"
      ]
     },
     "execution_count": 32,
     "metadata": {},
     "output_type": "execute_result"
    },
    {
     "data": {
      "image/png": "[encoded data removed]",
      "text/plain": [
       "<Figure size 432x288 with 1 Axes>"
      ]
     },
     "metadata": {
      "needs_background": "light"
     },
     "output_type": "display_data"
    }
   ],
   "source": [
    "# 验证一下\n",
    "x1=np.arange(x[:,1].min(),x[:,1].max(),0.1)\n",
    "y1=-(theta[0][0]+theta[1][0]*x1)/theta[2][0]\n",
    "plt.plot(x1,y1)\n",
    "for i in x[(np.where(y>0))[0]]:\n",
    "    plt.plot(i[1],i[2],'x')\n",
    "for i in x[(np.where(y<0))[0]]:\n",
    "    plt.plot(i[1],i[2],'o') "
   ]
  },
  {
   "cell_type": "code",
   "execution_count": 33,
   "metadata": {},
   "outputs": [
    {
     "name": "stdout",
     "output_type": "stream",
     "text": [
      "[-1. -1. -2.]\n",
      "[0. 9. 6.]\n",
      "[-1.  8.  4.]\n",
      "[-2.  7.  2.]\n",
      "[-3.  6.  0.]\n",
      "[-4.  5. -2.]\n",
      "[-5.  3. -4.]\n",
      "[-6.  0. -5.]\n",
      "[-5. 10.  3.]\n",
      "[-6.  9.  1.]\n",
      "[-7.  8. -1.]\n",
      "[-8.  6. -3.]\n",
      "[-9.  3. -4.]\n",
      "[-8. 13.  4.]\n",
      "[-9. 12.  2.]\n",
      "[-10.  11.   0.]\n",
      "[-11.  10.  -2.]\n",
      "[-12.   8.  -4.]\n",
      "[-13.   5.  -5.]\n",
      "[-12.  15.   3.]\n",
      "[-13.  14.   1.]\n",
      "[-14.  13.  -1.]\n",
      "[-15.  11.  -3.]\n",
      "[-16.   9.  -5.]\n",
      "[-17.   6.  -6.]\n",
      "[-16.  16.   2.]\n",
      "[-17.  15.   0.]\n",
      "[-18.  13.  -2.]\n",
      "[-19.  11.  -4.]\n",
      "[-20.   8.  -5.]\n",
      "[-19.  14.   4.]\n",
      "[-20.  13.   2.]\n",
      "[-21.  11.   0.]\n",
      "[-22.   9.  -2.]\n",
      "[-23.   6.  -3.]\n",
      "[-22.  12.   6.]\n",
      "[-23.  11.   4.]\n",
      "[-24.   9.   2.]\n",
      "[-25.   6.   1.]\n",
      "[-26.   2.  -3.]\n",
      "[-25.  12.   5.]\n",
      "[-26.  10.   3.]\n",
      "[-27.   8.   1.]\n",
      "[-28.   5.  -5.]\n",
      "[-27.  15.   3.]\n",
      "[-28.  13.   1.]\n",
      "[-29.  11.  -1.]\n",
      "[-30.   8.  -2.]\n",
      "[-29.  14.   7.]\n",
      "[-30.  12.   5.]\n",
      "[-31.  10.   3.]\n",
      "[-32.   7.   2.]\n",
      "[-33.   4.  -4.]\n",
      "[-32.  14.   4.]\n",
      "[-33.  12.   2.]\n",
      "[-34.   9.   1.]\n",
      "[-35.   5.  -3.]\n",
      "[-34.  15.   5.]\n",
      "[-35.  13.   3.]\n",
      "[-36.  10.   2.]\n",
      "[-37.   7.  -4.]\n",
      "[-36.  13.   5.]\n",
      "[-37.  11.   3.]\n",
      "[-38.   8.  -3.]\n",
      "[-37.  14.   6.]\n",
      "[-38.  12.   4.]\n",
      "[-39.   9.   3.]\n",
      "[-40.   6.  -3.]\n",
      "[-39.  16.   5.]\n",
      "[-40.  14.   3.]\n",
      "[-41.  11.   2.]\n",
      "[-42.   8.  -4.]\n",
      "[-41.  14.   5.]\n",
      "[-42.  11.   4.]\n",
      "[-43.   8.  -2.]\n",
      "[-42.  14.   7.]\n",
      "[-43.  12.   5.]\n",
      "[-44.   9.  -1.]\n",
      "[-45.   3.  -3.]\n",
      "[-44.  13.   5.]\n",
      "[-45.  10.   4.]\n",
      "[-46.   7.  -2.]\n",
      "[-45.  13.   7.]\n",
      "[-46.  10.   6.]\n",
      "[-47.   7.   0.]\n",
      "[-46.  13.   9.]\n",
      "[-47.  10.   8.]\n",
      "[-48.   7.   2.]\n",
      "Wall time: 99.9 ms\n"
     ]
    }
   ],
   "source": [
    "# 算法2\n",
    "# 因为测试运行时间，所以前面的都加到这里去了。\n",
    "def f2():\n",
    "    i=0\n",
    "    theta=np.zeros((1,len(x[0])))[0] \n",
    "    alpha=1\n",
    "    #y=y.reshape(1,len(y))[0]\n",
    "    y=y=np.array([-1,-1,-1,1,1,-1,-1,-1,1,1,-1,1,-1,1,1,1,1,-1])\n",
    "    # 迭代每个元素\n",
    "    while i < len(x):\n",
    "        #判断是否需要更次参数\n",
    "        # 判断条件是\n",
    "        if(y[i]*(theta*x[i]).sum()<=0):\n",
    "            theta=theta+alpha*y[i]*x[i]\n",
    "            i=0 # 重新开始啦\n",
    "            print(theta)\n",
    "        else:\n",
    "            i=i+1    \n",
    "%time f2()"
   ]
  },
  {
   "cell_type": "code",
   "execution_count": 37,
   "metadata": {},
   "outputs": [
    {
     "name": "stdout",
     "output_type": "stream",
     "text": [
      "Wall time: 79.9 ms\n"
     ]
    }
   ],
   "source": [
    "# 算法3 ，对偶的\n",
    "a=1 # 步长为1\n",
    "beta=np.linspace(0,0,len(x))\n",
    "# 构造这个矩阵。\n",
    "Gram=np.zeros((len(x),len(x)))\n",
    "for i in range(len(x)):\n",
    "    for j in range(len(x)):\n",
    "        Gram[i][j]=(x[i]*x[j]).sum()\n",
    "def check(k):\n",
    "    # 检查第k项是否是误分类的点的\n",
    "    _tmp=0\n",
    "    # 对所有的样本\n",
    "    for m in range(len(x)):\n",
    "        _tmp=_tmp+beta[m]*y[m]*Gram[m][k]\n",
    "        pass\n",
    "    _tmp=y[k]*_tmp\n",
    "    #判断是否小于等于0\n",
    "    if _tmp<=0:\n",
    "        return True\n",
    "    return False\n",
    "    pass\n",
    "def f3():\n",
    "    i=0\n",
    "    # 迭代每个元素\n",
    "    while i < len(x):\n",
    "        #判断是否需要更次参数\n",
    "        # 判断条件是\n",
    "        if check(i):\n",
    "            beta[i]=beta[i]+a\n",
    "            i=0 # 重新开始啦\n",
    "            # print(beta)\n",
    "        else:\n",
    "            i=i+1 \n",
    "%time f3()"
   ]
  },
  {
   "cell_type": "code",
   "execution_count": null,
   "metadata": {},
   "outputs": [],
   "source": []
  }
 ],
 "metadata": {
  "kernelspec": {
   "display_name": "Python 3",
   "language": "python",
   "name": "python3"
  },
  "language_info": {
   "codemirror_mode": {
    "name": "ipython",
    "version": 3
   },
   "file_extension": ".py",
   "mimetype": "text/x-python",
   "name": "python",
   "nbconvert_exporter": "python",
   "pygments_lexer": "ipython3",
   "version": "3.7.4"
  }
 },
 "nbformat": 4,
 "nbformat_minor": 4
}
