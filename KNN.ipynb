{
 "cells": [
  {
   "cell_type": "markdown",
   "metadata": {},
   "source": [
    "# 概述"
   ]
  },
  {
   "cell_type": "markdown",
   "metadata": {},
   "source": [
    "最简单最初级的分类器是将全部的训练数据所对应的类别都记录下来，当测试对象的属性和某个训练对象的属性完全匹配时，便可以对其进行分类。但是怎么可能所有测试对象都会找到与之完全匹配的训练对象呢，其次就是存在一个测试对象同时与多个训练对象匹配，导致一个训练对象被分到了多个类的问题，基于这些问题呢，就产生了KNN。\n",
    "\n",
    "KNN是通过测量不同特征值之间的距离进行分类。它的思路是：如果一个样本在特征空间中的k个最相似(即特征空间中最邻近)的样本中的大多数属于某一个类别，则该样本也属于这个类别，其中K通常是不大于20的整数。KNN算法中，所选择的邻居都是已经正确分类的对象。该方法在定类决策上只依据最邻近的一个或者几个样本的类别来决定待分样本所属的类别。\n",
    "\n",
    "在KNN中，是依据k个对象中占优的进行决策，而不是单一的对象类别决策。\n",
    "\n",
    "距离可以作为相似性的指标，   \n",
    "欧式距离 $d(x,y) = \\sqrt{\\sum\\limits_{k=1}^{n}(x_k-y_k)^2}$  或者其他的距离。\n",
    "\n"
   ]
  },
  {
   "cell_type": "markdown",
   "metadata": {},
   "source": [
    "# 算法描述"
   ]
  },
  {
   "cell_type": "markdown",
   "metadata": {},
   "source": [
    " 接下来对KNN算法的思想总结一下：就是在训练集中数据和标签已知的情况下，输入测试数据，将测试数据的特征与训练集中对应的特征进行相互比较，找到训练集中与之最为相似的前K个数据，则该测试数据对应的类别就是K个数据中出现次数最多的那个分类，其算法的描述为：\n",
    "\n",
    "1. 计算测试数据与各个训练数据之间的距离；\n",
    "2. 按照距离的递增关系进行排序；\n",
    "3. 选取距离最小的K个点；\n",
    "4. 确定前K个点所在类别的出现频率；\n",
    "5. 返回前K个点中出现频率最高的类别作为测试数据的预测分类。"
   ]
  },
  {
   "cell_type": "markdown",
   "metadata": {},
   "source": [
    "# python实现"
   ]
  },
  {
   "cell_type": "code",
   "execution_count": 16,
   "metadata": {},
   "outputs": [],
   "source": [
    "# 数据\n",
    "from numpy import *\n",
    "import operator\n",
    "group = array([[1.0,2.0],[1.2,0.1],[0.1,1.4],[0.3,3.5]])    # 这2个是已经分好类的训练数据。\n",
    "labels = ['A','A','B','B']\n",
    "input = array([1.1,0.3])    # 要测试的数据"
   ]
  },
  {
   "cell_type": "code",
   "execution_count": 23,
   "metadata": {},
   "outputs": [],
   "source": [
    "def classify(input,dataSet,label,k):\n",
    "    dataSize = dataSet.shape[0]\n",
    "    ####计算欧式距离\n",
    "    diff = tile(input,(dataSize,1)) - dataSet\n",
    "    sqdiff = diff ** 2\n",
    "    squareDist = sum(sqdiff,axis = 1)###行向量分别相加，从而得到新的一个行向量\n",
    "    dist = squareDist ** 0.5\n",
    "    \n",
    "    ##对距离进行排序\n",
    "    sortedDistIndex = argsort(dist)##argsort()根据元素的值从大到小对元素进行排序，返回下标\n",
    "\n",
    "    classCount={}\n",
    "    for i in range(k):\n",
    "        voteLabel = label[sortedDistIndex[i]]\n",
    "        ###对选取的K个样本所属的类别个数进行统计\n",
    "        classCount[voteLabel] = classCount.get(voteLabel,0) + 1\n",
    "    ###选取出现的类别次数最多的类别\n",
    "    maxCount = 0\n",
    "    for key,value in classCount.items():\n",
    "        if value > maxCount:   # 判断那个样品更多。\n",
    "            maxCount = value\n",
    "            classes = key      #\n",
    "\n",
    "    return classes    "
   ]
  },
  {
   "cell_type": "code",
   "execution_count": 24,
   "metadata": {},
   "outputs": [
    {
     "data": {
      "text/plain": [
       "'A'"
      ]
     },
     "execution_count": 24,
     "metadata": {},
     "output_type": "execute_result"
    }
   ],
   "source": [
    "# 测试\n",
    "K = 3\n",
    "classify(input,group,labels,K)"
   ]
  },
  {
   "cell_type": "code",
   "execution_count": null,
   "metadata": {},
   "outputs": [],
   "source": []
  }
 ],
 "metadata": {
  "kernelspec": {
   "display_name": "Python 3",
   "language": "python",
   "name": "python3"
  },
  "language_info": {
   "codemirror_mode": {
    "name": "ipython",
    "version": 3
   },
   "file_extension": ".py",
   "mimetype": "text/x-python",
   "name": "python",
   "nbconvert_exporter": "python",
   "pygments_lexer": "ipython3",
   "version": "3.7.4"
  }
 },
 "nbformat": 4,
 "nbformat_minor": 4
}
