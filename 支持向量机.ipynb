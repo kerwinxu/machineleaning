{
 "cells": [
  {
   "cell_type": "markdown",
   "metadata": {},
   "source": [
    "# 概念\n",
    "\n",
    "在前面的感知机模型种，对于每一个误分类的样本i，到超平面的距离为  $-\\frac{y^{(i)}\\theta\\cdot x^{(i)}}{||\\theta||_2}$，\n",
    "- 感知机是保留分子的形式  $J(\\theta)=-\\sum\\limits_{x_i\\in M}y^{(i)}\\theta\\cdot x^{(i)}$\n",
    "- 支持向量机是保留坟墓的形式 \n",
    "\n",
    "在感知机模型中，我们可以找到多个超平面将数据分开，并且优化时希望所有的点都立着超平面很远，但实际上，离超平面远的点早就被分类了，反而是离超平面很近的点容易被误分类，如果我们能够让离超平面很近的点尽可能的原理超平面，那我们的分类效果会更好些。 \n",
    "![](./图片/支持向量/p1.jpg)  \n",
    "如上图，我们的超平面$W^T +b = 0$,这样的样本不光可以被超平面分开，还和超平面保持一定的函数距离（下图函数距离为1），那么这样的超平面是比感知器模型优的，可以证明，这样的超平面只有一个，和超平面平行的保持一定函数距离的这两个超平面对应的向量，我们定义为支持向量，如下图虚线表示。支持向量到超平面的距离为 $\\frac{1}{||w||_2}$"
   ]
  },
  {
   "cell_type": "code",
   "execution_count": null,
   "metadata": {},
   "outputs": [],
   "source": []
  }
 ],
 "metadata": {
  "kernelspec": {
   "display_name": "Python 3",
   "language": "python",
   "name": "python3"
  },
  "language_info": {
   "codemirror_mode": {
    "name": "ipython",
    "version": 3
   },
   "file_extension": ".py",
   "mimetype": "text/x-python",
   "name": "python",
   "nbconvert_exporter": "python",
   "pygments_lexer": "ipython3",
   "version": "3.7.4"
  }
 },
 "nbformat": 4,
 "nbformat_minor": 4
}
